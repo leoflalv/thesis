{
 "cells": [
  {
   "cell_type": "code",
   "execution_count": 1,
   "metadata": {
    "tags": []
   },
   "outputs": [],
   "source": [
    "import os\n",
    "# os.environ[\"CUDA_DEVICE_ORDER\"] = \"PCI_BUS_ID\"   # see issue #152\n",
    "# os.environ[\"CUDA_VISIBLE_DEVICES\"] = \"\"\n",
    "\n",
    "from models import *\n",
    "from data_manager import *\n",
    "from keras.optimizers import RMSprop\n",
    "from keras.losses import BinaryCrossentropy\n",
    "from keras.metrics import SparseCategoricalAccuracy\n",
    "from keras.callbacks import ModelCheckpoint\n",
    "import tensorflow as ts"
   ]
  },
  {
   "cell_type": "code",
   "execution_count": 3,
   "metadata": {
    "tags": []
   },
   "outputs": [
    {
     "output_type": "stream",
     "name": "stdout",
     "text": "Found 27000 images belonging to 2 classes.\n(array([[[[ 99.      , 115.      , 100.      ],\n         [102.63829 , 117.42552 , 100.606384],\n         [ 96.572   , 110.572   ,  92.01013 ],\n         ...,\n         [105.736725, 126.942474, 105.736725],\n         [ 97.32248 , 119.32248 ,  97.16124 ],\n         [ 98.88328 , 120.88328 ,  98.      ]],\n\n        [[ 90.56169 , 107.03049 ,  91.56169 ],\n         [101.60897 , 116.169266,  98.43925 ],\n         [ 93.158554, 107.158554,  88.369125],\n         ...,\n         [103.233536, 124.66685 , 103.233536],\n         [ 97.7776  , 119.7776  ,  97.3888  ],\n         [ 98.655716, 120.655716,  98.      ]],\n\n        [[ 79.576416,  96.69736 ,  80.0858  ],\n         [ 96.76696 , 111.77507 ,  92.84543 ],\n         [ 90.15478 , 105.06117 ,  85.236046],\n         ...,\n         [100.73035 , 122.39122 , 100.73035 ],\n         [ 98.23273 , 120.23273 ,  97.61636 ],\n         [ 98.428154, 120.428154,  98.      ]],\n\n        ...,\n\n        [[127.243454, 133.06725 , 117.69838 ],\n         [136.51834 , 144.601   , 127.19826 ],\n         [139.98235 , 151.35193 , 133.37154 ],\n         ...,\n         [ 86.802315, 111.28369 ,  85.82337 ],\n         [ 95.14842 , 120.1036  ,  95.37252 ],\n         [ 90.57685 , 115.29142 ,  92.00399 ]],\n\n        [[124.98624 , 131.37059 , 116.14033 ],\n         [135.74971 , 144.8425  , 127.99788 ],\n         [138.48018 , 150.67851 , 132.63939 ],\n         ...,\n         [ 95.91311 , 120.46468 ,  90.91311 ],\n         [101.15314 , 126.15314 ,  96.85886 ],\n         [ 99.70948 , 124.70948 ,  96.61825 ]],\n\n        [[115.27489 , 122.44741 , 107.065765],\n         [122.34783 , 131.80814 , 115.47101 ],\n         [134.43007 , 147.85104 , 130.758   ],\n         ...,\n         [ 96.25242 , 120.05584 ,  91.25596 ],\n         [ 98.18734 , 122.424805,  93.18734 ],\n         [ 99.39038 , 123.86846 ,  94.39038 ]]],\n\n\n       [[[171.50284 , 164.46402 , 126.425186],\n         [153.73169 , 148.97122 , 113.21075 ],\n         [131.8733  , 131.71524 ,  98.840775],\n         ...,\n         [177.84674 , 158.60188 , 124.35702 ],\n         [167.23653 , 149.61288 , 116.236534],\n         [159.12437 , 142.4995  , 107.37412 ]],\n\n        [[186.1738  , 177.37671 , 133.59418 ],\n         [182.07277 , 173.73135 , 132.68283 ],\n         [171.90855 , 168.02626 , 131.27492 ],\n         ...,\n         [172.2429  , 153.46112 , 120.4416  ],\n         [162.72296 , 145.55066 , 111.72296 ],\n         [156.86758 , 140.69408 , 104.21462 ]],\n\n        [[186.42717 , 175.85434 , 129.28152 ],\n         [186.36607 , 176.51192 , 131.52933 ],\n         [183.8145  , 176.38177 , 134.45764 ],\n         ...,\n         [167.90352 , 148.11942 , 115.558846],\n         [161.11673 , 143.27971 , 108.226524],\n         [158.51889 , 143.07457 , 105.01114 ]],\n\n        ...,\n\n        [[167.61343 , 154.61343 , 118.710075],\n         [168.      , 155.      , 117.195724],\n         [167.09909 , 153.19817 , 117.      ],\n         ...,\n         [165.2886  , 149.2886  , 119.43291 ],\n         [164.37726 , 148.68863 , 118.68863 ],\n         [163.46593 , 148.23296 , 118.23296 ]],\n\n        [[168.      , 155.      , 118.290565],\n         [167.6465  , 154.29301 , 117.      ],\n         [168.05682 , 154.05682 , 118.76137 ],\n         ...,\n         [167.93538 , 151.93538 , 122.93538 ],\n         [166.35591 , 150.35591 , 121.03387 ],\n         [165.44456 , 149.44456 , 119.666855]],\n\n        [[168.      , 155.      , 117.387856],\n         [167.19514 , 153.39029 , 117.      ],\n         [169.41089 , 155.41089 , 121.01815 ],\n         ...,\n         [174.4918  , 158.4918  , 129.4918  ],\n         [171.67096 , 155.67096 , 126.67095 ],\n         [168.48126 , 152.48126 , 123.48126 ]]],\n\n\n       [[[121.13206 , 138.293   , 100.712524],\n         [112.13073 , 132.      ,  93.37691 ],\n         [116.99141 , 139.98854 , 101.65426 ],\n         ...,\n         [ 91.265076, 115.13963 ,  86.01419 ],\n         [102.20343 , 125.75627 ,  96.30911 ],\n         [113.141785, 136.37291 , 106.604034]],\n\n        [[126.60887 , 143.12547 , 105.86717 ],\n         [116.06129 , 134.25096 ,  95.75844 ],\n         [124.53845 , 144.59529 , 105.52948 ],\n         ...,\n         [122.35617 , 145.18665 , 114.678085],\n         [124.9299  , 147.43866 , 115.96495 ],\n         [127.503624, 149.69067 , 117.251816]],\n\n        [[130.09212 , 145.03206 , 108.09569 ],\n         [125.53217 , 141.19954 , 102.539894],\n         [138.6596  , 155.14032 , 116.73145 ],\n         ...,\n         [126.22322 , 146.94164 , 113.728035],\n         [122.04091 , 140.82903 , 107.29371 ],\n         [117.8586  , 134.71642 , 100.85938 ]],\n\n        ...,\n\n        [[ 87.83024 , 117.83024 ,  91.83024 ],\n         [ 75.14647 , 105.014305,  79.014305],\n         [ 70.81962 , 100.36804 ,  74.80877 ],\n         ...,\n         [ 60.64488 ,  93.504715,  64.42992 ],\n         [ 89.79587 , 117.657555,  89.657555],\n         [117.75714 , 141.276   , 111.53542 ]],\n\n        [[ 68.57253 ,  99.75193 ,  72.57253 ],\n         [ 70.6642  , 102.75208 ,  74.60754 ],\n         [ 87.310486, 119.220695,  89.95254 ],\n         ...,\n         [ 61.611374,  95.75987 ,  65.07425 ],\n         [ 78.19792 , 107.67043 ,  79.67043 ],\n         [109.70301 , 134.51053 , 105.41428 ]],\n\n        [[ 79.306984, 112.744194,  82.869774],\n         [ 85.41959 , 119.17852 ,  88.66067 ],\n         [103.595406, 136.79567 , 104.19622 ],\n         ...,\n         [ 62.57787 ,  98.01503 ,  65.71858 ],\n         [ 66.599976,  97.68331 ,  69.68331 ],\n         [101.64888 , 127.745056,  99.293144]]],\n\n\n       ...,\n\n\n       [[[114.      , 139.      ,  99.      ],\n         [114.      , 139.      ,  99.      ],\n         [118.225235, 142.8027  , 103.225235],\n         ...,\n         [100.644875, 126.19034 ,  98.46236 ],\n         [102.88825 , 127.888275, 101.9161  ],\n         [ 99.593925, 125.31927 ,  98.96895 ]],\n\n        [[114.      , 139.      ,  99.      ],\n         [114.      , 139.      ,  99.      ],\n         [116.19247 , 140.98743 , 101.4553  ],\n         ...,\n         [111.90647 , 137.24417 , 107.90647 ],\n         [113.01825 , 138.11038 , 108.93394 ],\n         [115.35497 , 140.57707 , 110.57875 ]],\n\n        [[106.59693 , 132.26994 ,  95.63497 ],\n         [104.76309 , 130.60281 ,  94.80141 ],\n         [105.07673 , 130.99516 ,  95.84379 ],\n         ...,\n         [106.62226 , 132.43245 , 103.40036 ],\n         [103.34977 , 129.02162 , 100.03532 ],\n         [107.02306 , 132.28006 , 103.00872 ]],\n\n        ...,\n\n        [[102.708984, 122.708984,  98.35449 ],\n         [102.04214 , 122.04214 ,  98.021065],\n         [101.37528 , 121.37528 ,  97.687645],\n         ...,\n         [ 92.00126 , 120.63083 ,  95.22381 ],\n         [ 80.288055, 108.458725,  87.36746 ],\n         [ 67.30457 ,  96.26158 ,  75.80466 ]],\n\n        [[ 98.60514 , 118.88411 ,  96.163086],\n         [ 97.771576, 118.21726 ,  95.66295 ],\n         [ 96.93801 , 117.55041 ,  95.1628  ],\n         ...,\n         [ 92.8432  , 119.93984 ,  95.052025],\n         [ 91.65241 , 118.6996  ,  94.9835  ],\n         [ 82.1494  , 109.98292 ,  87.42387 ]],\n\n        [[ 93.82405 , 115.52962 ,  93.05924 ],\n         [ 92.990486, 115.19619 ,  92.39239 ],\n         [ 92.15692 , 114.86277 ,  91.72553 ],\n         ...,\n         [104.69045 , 129.92163 , 104.96131 ],\n         [105.00727 , 131.      , 106.99273 ],\n         [ 91.75909 , 118.704865,  94.704865]]],\n\n\n       [[[103.907425, 122.27773 ,  98.53712 ],\n         [103.17444 , 125.30527 ,  94.13083 ],\n         [110.60826 , 138.31445 ,  99.70619 ],\n         ...,\n         [ 73.7427  , 103.009735,  79.2281  ],\n         [ 74.662636, 101.78316 ,  81.9879  ],\n         [ 75.582565, 100.55658 ,  84.7477  ]],\n\n        [[105.90671 , 123.43003 , 100.43003 ],\n         [103.30911 , 124.07267 ,  95.54555 ],\n         [107.960945, 133.68166 ,  97.72071 ],\n         ...,\n         [ 74.74829 ,  97.746925,  86.      ],\n         [ 73.21507 ,  94.98712 ,  86.      ],\n         [ 71.68185 ,  92.227325,  86.      ]],\n\n        [[108.55402 , 125.41552 , 102.41552 ],\n         [103.64002 , 123.079926,  97.20013 ],\n         [105.31363 , 129.04884 ,  95.73522 ],\n         ...,\n         [ 64.24267 ,  84.97962 ,  79.77276 ],\n         [ 67.08167 ,  87.64143 ,  82.64143 ],\n         [ 64.935165,  85.80157 ,  80.80157 ]],\n\n        ...,\n\n        [[ 47.791126,  66.16451 ,  60.746765],\n         [ 58.997593,  78.9564  ,  67.224106],\n         [ 80.66319 , 102.302635,  84.22058 ],\n         ...,\n         [111.80724 , 140.80724 , 103.6192  ],\n         [ 78.61291 , 107.60797 ,  80.07826 ],\n         [ 66.235596,  94.30143 ,  76.58459 ]],\n\n        [[ 49.75142 ,  66.17471 ,  57.481533],\n         [ 63.337234,  81.50508 ,  67.502655],\n         [ 95.86534 , 115.97422 ,  94.157875],\n         ...,\n         [104.63819 , 133.05681 ,  96.518234],\n         [ 82.49287 , 112.28111 ,  82.368515],\n         [ 74.246864, 104.964096,  82.34033 ]],\n\n        [[ 63.43076 ,  81.430756,  65.78749 ],\n         [ 69.334366,  87.43602 ,  70.56999 ],\n         [ 87.06335 , 107.02346 ,  84.302345],\n         ...,\n         [ 92.10284 , 119.34448 ,  86.930595],\n         [ 83.8827  , 113.56892 ,  82.62756 ],\n         [ 75.45533 , 106.45533 ,  81.36168 ]]],\n\n\n       [[[128.4463  , 141.35066 , 105.47818 ],\n         [128.66132 , 140.33868 , 103.01604 ],\n         [136.09038 , 146.02681 , 108.02682 ],\n         ...,\n         [118.342995, 130.64267 , 101.39559 ],\n         [125.24125 , 137.59468 , 107.88781 ],\n         [134.44215 , 147.62242 , 116.26189 ]],\n\n        [[138.25652 , 149.05869 , 115.98911 ],\n         [128.55173 , 141.4335  , 105.59113 ],\n         [123.39092 , 135.23695 ,  98.75532 ],\n         ...,\n         [127.95192 , 142.46786 , 111.63846 ],\n         [132.24066 , 145.50385 , 114.40717 ],\n         [139.14197 , 152.90971 , 120.37422 ]],\n\n        [[139.83331 , 150.26665 , 120.      ],\n         [136.93669 , 147.6487  , 114.869316],\n         [124.4519  , 136.27928 , 101.54985 ],\n         ...,\n         [126.48757 , 141.18643 , 110.48946 ],\n         [132.5758  , 148.10162 , 114.85556 ],\n         [139.6586  , 153.80682 , 120.773544]],\n\n        ...,\n\n        [[124.33478 , 140.20174 , 109.60087 ],\n         [120.200615, 135.24074 , 107.12037 ],\n         [112.13291 , 127.13291 , 102.27975 ],\n         ...,\n         [ 60.10718 ,  80.21436 ,  73.32154 ],\n         [ 60.586018,  80.58602 ,  73.58602 ],\n         [ 61.279217,  81.      ,  73.72078 ]],\n\n        [[121.3974  , 136.67688 , 107.83844 ],\n         [114.526474, 129.52647 , 103.71588 ],\n         [110.74837 , 125.      , 102.870926],\n         ...,\n         [ 60.807907,  81.615814,  75.42373 ],\n         [ 60.11471 ,  80.22942 ,  73.34413 ],\n         [ 60.578487,  80.57849 ,  73.57849 ]],\n\n        [[116.92004 , 131.92003 , 105.15202 ],\n         [110.26966 , 125.      , 101.67415 ],\n         [111.923325, 125.      , 105.808304],\n         ...,\n         [ 62.017277,  82.50864 ,  77.01727 ],\n         [ 60.815437,  81.630875,  75.44632 ],\n         [ 60.12224 ,  80.24448 ,  73.36672 ]]]], dtype=float32), array([1., 0., 1., 1., 1., 1., 0., 0., 1., 1., 1., 1., 0., 1., 0., 1.],\n      dtype=float32))\n"
    },
    {
     "output_type": "error",
     "ename": "TypeError",
     "evalue": "unsupported operand type(s) for +: 'DirectoryIterator' and 'str'",
     "traceback": [
      "\u001b[0;31m---------------------------------------------------------------------------\u001b[0m",
      "\u001b[0;31mTypeError\u001b[0m                                 Traceback (most recent call last)",
      "\u001b[0;32m<ipython-input-3-35d688b5ba53>\u001b[0m in \u001b[0;36m<module>\u001b[0;34m\u001b[0m\n\u001b[1;32m      4\u001b[0m \u001b[0mdata_generator\u001b[0m \u001b[0;34m=\u001b[0m \u001b[0mimage_train_data_generator\u001b[0m\u001b[0;34m(\u001b[0m\u001b[0mTRAIN_DATA_PATH\u001b[0m\u001b[0;34m,\u001b[0m \u001b[0;36m90\u001b[0m\u001b[0;34m,\u001b[0m \u001b[0;36m0.1\u001b[0m\u001b[0;34m)\u001b[0m\u001b[0;34m\u001b[0m\u001b[0;34m\u001b[0m\u001b[0m\n\u001b[1;32m      5\u001b[0m \u001b[0mprint\u001b[0m\u001b[0;34m(\u001b[0m\u001b[0mdata_generator\u001b[0m\u001b[0;34m.\u001b[0m\u001b[0mnext\u001b[0m\u001b[0;34m(\u001b[0m\u001b[0;34m)\u001b[0m\u001b[0;34m)\u001b[0m\u001b[0;34m\u001b[0m\u001b[0;34m\u001b[0m\u001b[0m\n\u001b[0;32m----> 6\u001b[0;31m \u001b[0mprint\u001b[0m\u001b[0;34m(\u001b[0m\u001b[0mdata_generator\u001b[0m \u001b[0;34m+\u001b[0m \u001b[0;34m's'\u001b[0m \u001b[0;34m+\u001b[0m \u001b[0;36m8\u001b[0m\u001b[0;34m)\u001b[0m\u001b[0;34m\u001b[0m\u001b[0;34m\u001b[0m\u001b[0m\n\u001b[0m\u001b[1;32m      7\u001b[0m \u001b[0;31m# validation_data = image_test_data(TEST_DATA_PATH)\u001b[0m\u001b[0;34m\u001b[0m\u001b[0;34m\u001b[0m\u001b[0;34m\u001b[0m\u001b[0m\n\u001b[1;32m      8\u001b[0m \u001b[0;34m\u001b[0m\u001b[0m\n",
      "\u001b[0;31mTypeError\u001b[0m: unsupported operand type(s) for +: 'DirectoryIterator' and 'str'"
     ]
    }
   ],
   "source": [
    "TRAIN_DATA_PATH = 'data/train/image/'\n",
    "# TEST_DATA_PATH = 'data/testing/test/'\n",
    "\n",
    "train_generator, validation_generator = image_train_validation_data_generator(TRAIN_DATA_PATH, 90, 0.1)\n",
    "# validation_data = image_test_data(TRAIN_DATA_PATH)\n",
    "\n",
    "model = lenet()\n",
    "model.compile(optimizer=RMSprop(),\n",
    "    loss=BinaryCrossentropy(),\n",
    "    metrics=['accuracy'])\n",
    "\n",
    "model_checkpoint_acc = ModelCheckpoint('model_trees_acc_v1.hdf5', monitor='accuracy',verbose=1, save_best_only=True)\n",
    "model_checkpoint_val_acc = ModelCheckpoint('model_trees_val_acc_v1.hdf5', monitor='accuracy',verbose=1, save_best_only=True)\n",
    "\n",
    "print('[FIT STARTED...]\\n')\n",
    "history = model.fit(train_generator, epochs=100, steps_per_epoch=1000, callbacks=[model_checkpoint_acc, model_checkpoint_val_acc], validation_data=validation_generator)"
   ]
  },
  {
   "cell_type": "code",
   "execution_count": 3,
   "metadata": {
    "tags": []
   },
   "outputs": [
    {
     "output_type": "stream",
     "name": "stdout",
     "text": "{'loss': [0.6927967071533203, 0.5892317295074463, 0.5879548788070679, 0.5837268233299255, 0.5863234996795654, 0.5866233706474304, 0.5809545516967773, 0.580406129360199, 0.5794343948364258, 0.581947922706604, 0.5954232811927795, 0.5806578397750854, 0.5831758379936218, 0.582188069820404, 0.5898576378822327, 0.5957868695259094, 0.5783928632736206, 0.5826771855354309, 0.5798409581184387, 0.5773578882217407, 0.5835819840431213, 0.5851423144340515, 0.5860011577606201, 0.5814642310142517, 0.5937354564666748, 0.5823622345924377, 0.5916152596473694, 0.5874947309494019, 0.5824196934700012, 0.5859648585319519, 0.5867423415184021, 0.5905507802963257, 0.5909566879272461, 0.5795959234237671, 0.5811551213264465, 0.5864414572715759, 0.5857515335083008, 0.5870389342308044, 0.5917702317237854, 0.5886061191558838, 0.5992886424064636, 0.5904188752174377, 0.5832694172859192, 0.5880945920944214, 0.5884185433387756, 0.6076338291168213, 0.5922937989234924, 0.5970426797866821, 0.5924586653709412, 0.5887554287910461, 0.5892560482025146, 0.6080131530761719, 0.5919411182403564, 0.5874068737030029, 0.5944874286651611, 0.5880668759346008, 0.6017345190048218, 0.592193067073822, 0.5881497859954834, 0.5945186614990234, 0.596377968788147, 0.595329225063324, 0.5947601795196533, 0.605579674243927, 0.5904474258422852, 0.5984264612197876, 0.5876092314720154, 0.5928389430046082, 0.599531888961792, 0.5991942882537842, 0.6232236623764038, 0.5987384915351868, 0.5929069519042969, 0.5999668836593628, 0.592478334903717, 0.6257525086402893, 0.6209359765052795, 0.6012707352638245, 0.5856888890266418, 0.5945743322372437, 0.586644172668457, 0.6032199263572693, 0.6258416771888733, 0.5908575057983398, 0.597229540348053, 0.5968826413154602, 0.6045422554016113, 0.6041386723518372, 0.5955923795700073, 0.6007274985313416, 0.5987840294837952, 0.6463550329208374, 0.6664807200431824, 0.6669510006904602, 0.6725936532020569, 0.666982889175415, 0.6665151119232178, 0.6651651263237, 0.6702382564544678, 0.6671723127365112], 'accuracy': [0.6156250238418579, 0.6423120498657227, 0.6441875100135803, 0.6473163962364197, 0.6472538709640503, 0.640500009059906, 0.64556485414505, 0.6555736064910889, 0.6490625143051147, 0.6471912860870361, 0.64556485414505, 0.648312509059906, 0.6462529897689819, 0.6484423875808716, 0.6535624861717224, 0.6455023288726807, 0.6496309041976929, 0.6445624828338623, 0.6516326665878296, 0.6480045318603516, 0.6474999785423279, 0.6461904048919678, 0.6500062346458435, 0.6537500023841858, 0.6408732533454895, 0.6522582173347473, 0.6457499861717224, 0.6438758969306946, 0.6519454717636108, 0.6544374823570251, 0.6435630917549133, 0.6488177180290222, 0.6241250038146973, 0.6545727252960205, 0.6508820056915283, 0.6525624990463257, 0.6456274390220642, 0.6450018882751465, 0.6450625061988831, 0.640560507774353, 0.6440635323524475, 0.6424999833106995, 0.6475666165351868, 0.6489428281784058, 0.6461250185966492, 0.6371200084686279, 0.6433128714561462, 0.6389374732971191, 0.6478168368339539, 0.6445000171661377, 0.6501939296722412, 0.6400600671768188, 0.6463750004768372, 0.6452521085739136, 0.6388714909553528, 0.6449375152587891, 0.6284874081611633, 0.6455023288726807, 0.6499375104904175, 0.636431872844696, 0.6413736939430237, 0.6443750262260437, 0.6404979228973389, 0.6383085250854492, 0.6477500200271606, 0.6364944577217102, 0.6396847367286682, 0.6405624747276306, 0.6460652947425842, 0.6381834149360657, 0.6385625004768372, 0.6458776593208313, 0.640998363494873, 0.6436874866485596, 0.6463780999183655, 0.6249843835830688, 0.6235625147819519, 0.6305517554283142, 0.6385587453842163, 0.6472499966621399, 0.642374575138092, 0.6494432687759399, 0.6387500166893005, 0.6423120498657227, 0.6384961605072021, 0.6484375, 0.636431872844696, 0.635055661201477, 0.6448125243186951, 0.6408732533454895, 0.646503210067749, 0.6215624809265137, 0.619542121887207, 0.6188539862632751, 0.6187499761581421, 0.6181033253669739, 0.6191250085830688, 0.6220442652702332, 0.6156637072563171, 0.6176875233650208]}\n"
    },
    {
     "output_type": "error",
     "ename": "NameError",
     "evalue": "name 'plt' is not defined",
     "traceback": [
      "\u001b[0;31m---------------------------------------------------------------------------\u001b[0m",
      "\u001b[0;31mNameError\u001b[0m                                 Traceback (most recent call last)",
      "\u001b[0;32m<ipython-input-3-43c6b074fdcf>\u001b[0m in \u001b[0;36m<module>\u001b[0;34m\u001b[0m\n\u001b[1;32m      1\u001b[0m \u001b[0;31m# summarize history for accuracy\u001b[0m\u001b[0;34m\u001b[0m\u001b[0;34m\u001b[0m\u001b[0;34m\u001b[0m\u001b[0m\n\u001b[1;32m      2\u001b[0m \u001b[0mprint\u001b[0m\u001b[0;34m(\u001b[0m\u001b[0mhistory\u001b[0m\u001b[0;34m.\u001b[0m\u001b[0mhistory\u001b[0m\u001b[0;34m)\u001b[0m\u001b[0;34m\u001b[0m\u001b[0;34m\u001b[0m\u001b[0m\n\u001b[0;32m----> 3\u001b[0;31m \u001b[0mplt\u001b[0m\u001b[0;34m.\u001b[0m\u001b[0mplot\u001b[0m\u001b[0;34m(\u001b[0m\u001b[0mhistory\u001b[0m\u001b[0;34m.\u001b[0m\u001b[0mhistory\u001b[0m\u001b[0;34m[\u001b[0m\u001b[0;34m'accuracy'\u001b[0m\u001b[0;34m]\u001b[0m\u001b[0;34m)\u001b[0m\u001b[0;34m\u001b[0m\u001b[0;34m\u001b[0m\u001b[0m\n\u001b[0m\u001b[1;32m      4\u001b[0m \u001b[0mplt\u001b[0m\u001b[0;34m.\u001b[0m\u001b[0mplot\u001b[0m\u001b[0;34m(\u001b[0m\u001b[0mhistory\u001b[0m\u001b[0;34m.\u001b[0m\u001b[0mhistory\u001b[0m\u001b[0;34m[\u001b[0m\u001b[0;34m'val_accuracy'\u001b[0m\u001b[0;34m]\u001b[0m\u001b[0;34m)\u001b[0m\u001b[0;34m\u001b[0m\u001b[0;34m\u001b[0m\u001b[0m\n\u001b[1;32m      5\u001b[0m \u001b[0mplt\u001b[0m\u001b[0;34m.\u001b[0m\u001b[0mtitle\u001b[0m\u001b[0;34m(\u001b[0m\u001b[0;34m'model accuracy'\u001b[0m\u001b[0;34m)\u001b[0m\u001b[0;34m\u001b[0m\u001b[0;34m\u001b[0m\u001b[0m\n",
      "\u001b[0;31mNameError\u001b[0m: name 'plt' is not defined"
     ]
    }
   ],
   "source": [
    "# summarize history for accuracy\n",
    "print(history.history)\n",
    "plt.plot(history.history['accuracy'])\n",
    "plt.plot(history.history['val_accuracy'])\n",
    "plt.title('model accuracy')\n",
    "plt.ylabel('accuracy')\n",
    "plt.xlabel('epoch')\n",
    "plt.legend(['train', 'test'], loc='upper left')\n",
    "plt.savefig('acc_1.png')\n",
    "\n",
    "# summarize history for loss\n",
    "plt.plot(history.history['loss'])\n",
    "plt.plot(history.history['val_loss'])\n",
    "plt.title('model loss')\n",
    "plt.ylabel('loss')\n",
    "plt.xlabel('epoch')\n",
    "plt.legend(['train', 'test'], loc='upper left')\n",
    "plt.savefig('loss_1.png')"
   ]
  },
  {
   "cell_type": "code",
   "execution_count": 2,
   "metadata": {
    "tags": []
   },
   "outputs": [
    {
     "output_type": "stream",
     "name": "stdout",
     "text": "Found 12333 images belonging to 2 classes.\nFound 12333 images belonging to 2 classes.\n[FIT STARTED...]\n\nEpoch 1/100\n 420/1000 [===========>..................] - ETA: 5s - loss: 0.5000 - accuracy: 0.8530"
    },
    {
     "output_type": "error",
     "ename": "KeyboardInterrupt",
     "evalue": "",
     "traceback": [
      "\u001b[0;31m---------------------------------------------------------------------------\u001b[0m",
      "\u001b[0;31mKeyboardInterrupt\u001b[0m                         Traceback (most recent call last)",
      "\u001b[0;32m<ipython-input-2-03d573cb39df>\u001b[0m in \u001b[0;36m<module>\u001b[0;34m\u001b[0m\n\u001b[1;32m     15\u001b[0m \u001b[0;34m\u001b[0m\u001b[0m\n\u001b[1;32m     16\u001b[0m \u001b[0mprint\u001b[0m\u001b[0;34m(\u001b[0m\u001b[0;34m'[FIT STARTED...]\\n'\u001b[0m\u001b[0;34m)\u001b[0m\u001b[0;34m\u001b[0m\u001b[0;34m\u001b[0m\u001b[0m\n\u001b[0;32m---> 17\u001b[0;31m \u001b[0mmodel\u001b[0m\u001b[0;34m.\u001b[0m\u001b[0mfit\u001b[0m\u001b[0;34m(\u001b[0m\u001b[0mdata_generator\u001b[0m\u001b[0;34m,\u001b[0m \u001b[0mepochs\u001b[0m\u001b[0;34m=\u001b[0m\u001b[0;36m100\u001b[0m\u001b[0;34m,\u001b[0m \u001b[0msteps_per_epoch\u001b[0m\u001b[0;34m=\u001b[0m\u001b[0;36m1000\u001b[0m\u001b[0;34m,\u001b[0m \u001b[0mcallbacks\u001b[0m\u001b[0;34m=\u001b[0m\u001b[0;34m[\u001b[0m\u001b[0mmodel_checkpoint_acc\u001b[0m\u001b[0;34m,\u001b[0m \u001b[0mmodel_checkpoint_val_acc\u001b[0m\u001b[0;34m]\u001b[0m\u001b[0;34m,\u001b[0m \u001b[0mvalidation_data\u001b[0m\u001b[0;34m=\u001b[0m\u001b[0mvalidation_data\u001b[0m\u001b[0;34m)\u001b[0m\u001b[0;34m\u001b[0m\u001b[0;34m\u001b[0m\u001b[0m\n\u001b[0m",
      "\u001b[0;32m~/miniconda3/envs/tesis/lib/python3.7/site-packages/tensorflow/python/keras/engine/training.py\u001b[0m in \u001b[0;36m_method_wrapper\u001b[0;34m(self, *args, **kwargs)\u001b[0m\n\u001b[1;32m     64\u001b[0m   \u001b[0;32mdef\u001b[0m \u001b[0m_method_wrapper\u001b[0m\u001b[0;34m(\u001b[0m\u001b[0mself\u001b[0m\u001b[0;34m,\u001b[0m \u001b[0;34m*\u001b[0m\u001b[0margs\u001b[0m\u001b[0;34m,\u001b[0m \u001b[0;34m**\u001b[0m\u001b[0mkwargs\u001b[0m\u001b[0;34m)\u001b[0m\u001b[0;34m:\u001b[0m\u001b[0;34m\u001b[0m\u001b[0;34m\u001b[0m\u001b[0m\n\u001b[1;32m     65\u001b[0m     \u001b[0;32mif\u001b[0m \u001b[0;32mnot\u001b[0m \u001b[0mself\u001b[0m\u001b[0;34m.\u001b[0m\u001b[0m_in_multi_worker_mode\u001b[0m\u001b[0;34m(\u001b[0m\u001b[0;34m)\u001b[0m\u001b[0;34m:\u001b[0m  \u001b[0;31m# pylint: disable=protected-access\u001b[0m\u001b[0;34m\u001b[0m\u001b[0;34m\u001b[0m\u001b[0m\n\u001b[0;32m---> 66\u001b[0;31m       \u001b[0;32mreturn\u001b[0m \u001b[0mmethod\u001b[0m\u001b[0;34m(\u001b[0m\u001b[0mself\u001b[0m\u001b[0;34m,\u001b[0m \u001b[0;34m*\u001b[0m\u001b[0margs\u001b[0m\u001b[0;34m,\u001b[0m \u001b[0;34m**\u001b[0m\u001b[0mkwargs\u001b[0m\u001b[0;34m)\u001b[0m\u001b[0;34m\u001b[0m\u001b[0;34m\u001b[0m\u001b[0m\n\u001b[0m\u001b[1;32m     67\u001b[0m \u001b[0;34m\u001b[0m\u001b[0m\n\u001b[1;32m     68\u001b[0m     \u001b[0;31m# Running inside `run_distribute_coordinator` already.\u001b[0m\u001b[0;34m\u001b[0m\u001b[0;34m\u001b[0m\u001b[0;34m\u001b[0m\u001b[0m\n",
      "\u001b[0;32m~/miniconda3/envs/tesis/lib/python3.7/site-packages/tensorflow/python/keras/engine/training.py\u001b[0m in \u001b[0;36mfit\u001b[0;34m(self, x, y, batch_size, epochs, verbose, callbacks, validation_split, validation_data, shuffle, class_weight, sample_weight, initial_epoch, steps_per_epoch, validation_steps, validation_batch_size, validation_freq, max_queue_size, workers, use_multiprocessing)\u001b[0m\n\u001b[1;32m    846\u001b[0m                 batch_size=batch_size):\n\u001b[1;32m    847\u001b[0m               \u001b[0mcallbacks\u001b[0m\u001b[0;34m.\u001b[0m\u001b[0mon_train_batch_begin\u001b[0m\u001b[0;34m(\u001b[0m\u001b[0mstep\u001b[0m\u001b[0;34m)\u001b[0m\u001b[0;34m\u001b[0m\u001b[0;34m\u001b[0m\u001b[0m\n\u001b[0;32m--> 848\u001b[0;31m               \u001b[0mtmp_logs\u001b[0m \u001b[0;34m=\u001b[0m \u001b[0mtrain_function\u001b[0m\u001b[0;34m(\u001b[0m\u001b[0miterator\u001b[0m\u001b[0;34m)\u001b[0m\u001b[0;34m\u001b[0m\u001b[0;34m\u001b[0m\u001b[0m\n\u001b[0m\u001b[1;32m    849\u001b[0m               \u001b[0;31m# Catch OutOfRangeError for Datasets of unknown size.\u001b[0m\u001b[0;34m\u001b[0m\u001b[0;34m\u001b[0m\u001b[0;34m\u001b[0m\u001b[0m\n\u001b[1;32m    850\u001b[0m               \u001b[0;31m# This blocks until the batch has finished executing.\u001b[0m\u001b[0;34m\u001b[0m\u001b[0;34m\u001b[0m\u001b[0;34m\u001b[0m\u001b[0m\n",
      "\u001b[0;32m~/miniconda3/envs/tesis/lib/python3.7/site-packages/tensorflow/python/eager/def_function.py\u001b[0m in \u001b[0;36m__call__\u001b[0;34m(self, *args, **kwds)\u001b[0m\n\u001b[1;32m    578\u001b[0m         \u001b[0mxla_context\u001b[0m\u001b[0;34m.\u001b[0m\u001b[0mExit\u001b[0m\u001b[0;34m(\u001b[0m\u001b[0;34m)\u001b[0m\u001b[0;34m\u001b[0m\u001b[0;34m\u001b[0m\u001b[0m\n\u001b[1;32m    579\u001b[0m     \u001b[0;32melse\u001b[0m\u001b[0;34m:\u001b[0m\u001b[0;34m\u001b[0m\u001b[0;34m\u001b[0m\u001b[0m\n\u001b[0;32m--> 580\u001b[0;31m       \u001b[0mresult\u001b[0m \u001b[0;34m=\u001b[0m \u001b[0mself\u001b[0m\u001b[0;34m.\u001b[0m\u001b[0m_call\u001b[0m\u001b[0;34m(\u001b[0m\u001b[0;34m*\u001b[0m\u001b[0margs\u001b[0m\u001b[0;34m,\u001b[0m \u001b[0;34m**\u001b[0m\u001b[0mkwds\u001b[0m\u001b[0;34m)\u001b[0m\u001b[0;34m\u001b[0m\u001b[0;34m\u001b[0m\u001b[0m\n\u001b[0m\u001b[1;32m    581\u001b[0m \u001b[0;34m\u001b[0m\u001b[0m\n\u001b[1;32m    582\u001b[0m     \u001b[0;32mif\u001b[0m \u001b[0mtracing_count\u001b[0m \u001b[0;34m==\u001b[0m \u001b[0mself\u001b[0m\u001b[0;34m.\u001b[0m\u001b[0m_get_tracing_count\u001b[0m\u001b[0;34m(\u001b[0m\u001b[0;34m)\u001b[0m\u001b[0;34m:\u001b[0m\u001b[0;34m\u001b[0m\u001b[0;34m\u001b[0m\u001b[0m\n",
      "\u001b[0;32m~/miniconda3/envs/tesis/lib/python3.7/site-packages/tensorflow/python/eager/def_function.py\u001b[0m in \u001b[0;36m_call\u001b[0;34m(self, *args, **kwds)\u001b[0m\n\u001b[1;32m    609\u001b[0m       \u001b[0;31m# In this case we have created variables on the first call, so we run the\u001b[0m\u001b[0;34m\u001b[0m\u001b[0;34m\u001b[0m\u001b[0;34m\u001b[0m\u001b[0m\n\u001b[1;32m    610\u001b[0m       \u001b[0;31m# defunned version which is guaranteed to never create variables.\u001b[0m\u001b[0;34m\u001b[0m\u001b[0;34m\u001b[0m\u001b[0;34m\u001b[0m\u001b[0m\n\u001b[0;32m--> 611\u001b[0;31m       \u001b[0;32mreturn\u001b[0m \u001b[0mself\u001b[0m\u001b[0;34m.\u001b[0m\u001b[0m_stateless_fn\u001b[0m\u001b[0;34m(\u001b[0m\u001b[0;34m*\u001b[0m\u001b[0margs\u001b[0m\u001b[0;34m,\u001b[0m \u001b[0;34m**\u001b[0m\u001b[0mkwds\u001b[0m\u001b[0;34m)\u001b[0m  \u001b[0;31m# pylint: disable=not-callable\u001b[0m\u001b[0;34m\u001b[0m\u001b[0;34m\u001b[0m\u001b[0m\n\u001b[0m\u001b[1;32m    612\u001b[0m     \u001b[0;32melif\u001b[0m \u001b[0mself\u001b[0m\u001b[0;34m.\u001b[0m\u001b[0m_stateful_fn\u001b[0m \u001b[0;32mis\u001b[0m \u001b[0;32mnot\u001b[0m \u001b[0;32mNone\u001b[0m\u001b[0;34m:\u001b[0m\u001b[0;34m\u001b[0m\u001b[0;34m\u001b[0m\u001b[0m\n\u001b[1;32m    613\u001b[0m       \u001b[0;31m# Release the lock early so that multiple threads can perform the call\u001b[0m\u001b[0;34m\u001b[0m\u001b[0;34m\u001b[0m\u001b[0;34m\u001b[0m\u001b[0m\n",
      "\u001b[0;32m~/miniconda3/envs/tesis/lib/python3.7/site-packages/tensorflow/python/eager/function.py\u001b[0m in \u001b[0;36m__call__\u001b[0;34m(self, *args, **kwargs)\u001b[0m\n\u001b[1;32m   2418\u001b[0m     \u001b[0;32mwith\u001b[0m \u001b[0mself\u001b[0m\u001b[0;34m.\u001b[0m\u001b[0m_lock\u001b[0m\u001b[0;34m:\u001b[0m\u001b[0;34m\u001b[0m\u001b[0;34m\u001b[0m\u001b[0m\n\u001b[1;32m   2419\u001b[0m       \u001b[0mgraph_function\u001b[0m\u001b[0;34m,\u001b[0m \u001b[0margs\u001b[0m\u001b[0;34m,\u001b[0m \u001b[0mkwargs\u001b[0m \u001b[0;34m=\u001b[0m \u001b[0mself\u001b[0m\u001b[0;34m.\u001b[0m\u001b[0m_maybe_define_function\u001b[0m\u001b[0;34m(\u001b[0m\u001b[0margs\u001b[0m\u001b[0;34m,\u001b[0m \u001b[0mkwargs\u001b[0m\u001b[0;34m)\u001b[0m\u001b[0;34m\u001b[0m\u001b[0;34m\u001b[0m\u001b[0m\n\u001b[0;32m-> 2420\u001b[0;31m     \u001b[0;32mreturn\u001b[0m \u001b[0mgraph_function\u001b[0m\u001b[0;34m.\u001b[0m\u001b[0m_filtered_call\u001b[0m\u001b[0;34m(\u001b[0m\u001b[0margs\u001b[0m\u001b[0;34m,\u001b[0m \u001b[0mkwargs\u001b[0m\u001b[0;34m)\u001b[0m  \u001b[0;31m# pylint: disable=protected-access\u001b[0m\u001b[0;34m\u001b[0m\u001b[0;34m\u001b[0m\u001b[0m\n\u001b[0m\u001b[1;32m   2421\u001b[0m \u001b[0;34m\u001b[0m\u001b[0m\n\u001b[1;32m   2422\u001b[0m   \u001b[0;34m@\u001b[0m\u001b[0mproperty\u001b[0m\u001b[0;34m\u001b[0m\u001b[0;34m\u001b[0m\u001b[0m\n",
      "\u001b[0;32m~/miniconda3/envs/tesis/lib/python3.7/site-packages/tensorflow/python/eager/function.py\u001b[0m in \u001b[0;36m_filtered_call\u001b[0;34m(self, args, kwargs)\u001b[0m\n\u001b[1;32m   1663\u001b[0m          if isinstance(t, (ops.Tensor,\n\u001b[1;32m   1664\u001b[0m                            resource_variable_ops.BaseResourceVariable))),\n\u001b[0;32m-> 1665\u001b[0;31m         self.captured_inputs)\n\u001b[0m\u001b[1;32m   1666\u001b[0m \u001b[0;34m\u001b[0m\u001b[0m\n\u001b[1;32m   1667\u001b[0m   \u001b[0;32mdef\u001b[0m \u001b[0m_call_flat\u001b[0m\u001b[0;34m(\u001b[0m\u001b[0mself\u001b[0m\u001b[0;34m,\u001b[0m \u001b[0margs\u001b[0m\u001b[0;34m,\u001b[0m \u001b[0mcaptured_inputs\u001b[0m\u001b[0;34m,\u001b[0m \u001b[0mcancellation_manager\u001b[0m\u001b[0;34m=\u001b[0m\u001b[0;32mNone\u001b[0m\u001b[0;34m)\u001b[0m\u001b[0;34m:\u001b[0m\u001b[0;34m\u001b[0m\u001b[0;34m\u001b[0m\u001b[0m\n",
      "\u001b[0;32m~/miniconda3/envs/tesis/lib/python3.7/site-packages/tensorflow/python/eager/function.py\u001b[0m in \u001b[0;36m_call_flat\u001b[0;34m(self, args, captured_inputs, cancellation_manager)\u001b[0m\n\u001b[1;32m   1744\u001b[0m       \u001b[0;31m# No tape is watching; skip to running the function.\u001b[0m\u001b[0;34m\u001b[0m\u001b[0;34m\u001b[0m\u001b[0;34m\u001b[0m\u001b[0m\n\u001b[1;32m   1745\u001b[0m       return self._build_call_outputs(self._inference_function.call(\n\u001b[0;32m-> 1746\u001b[0;31m           ctx, args, cancellation_manager=cancellation_manager))\n\u001b[0m\u001b[1;32m   1747\u001b[0m     forward_backward = self._select_forward_and_backward_functions(\n\u001b[1;32m   1748\u001b[0m         \u001b[0margs\u001b[0m\u001b[0;34m,\u001b[0m\u001b[0;34m\u001b[0m\u001b[0;34m\u001b[0m\u001b[0m\n",
      "\u001b[0;32m~/miniconda3/envs/tesis/lib/python3.7/site-packages/tensorflow/python/eager/function.py\u001b[0m in \u001b[0;36mcall\u001b[0;34m(self, ctx, args, cancellation_manager)\u001b[0m\n\u001b[1;32m    596\u001b[0m               \u001b[0minputs\u001b[0m\u001b[0;34m=\u001b[0m\u001b[0margs\u001b[0m\u001b[0;34m,\u001b[0m\u001b[0;34m\u001b[0m\u001b[0;34m\u001b[0m\u001b[0m\n\u001b[1;32m    597\u001b[0m               \u001b[0mattrs\u001b[0m\u001b[0;34m=\u001b[0m\u001b[0mattrs\u001b[0m\u001b[0;34m,\u001b[0m\u001b[0;34m\u001b[0m\u001b[0;34m\u001b[0m\u001b[0m\n\u001b[0;32m--> 598\u001b[0;31m               ctx=ctx)\n\u001b[0m\u001b[1;32m    599\u001b[0m         \u001b[0;32melse\u001b[0m\u001b[0;34m:\u001b[0m\u001b[0;34m\u001b[0m\u001b[0;34m\u001b[0m\u001b[0m\n\u001b[1;32m    600\u001b[0m           outputs = execute.execute_with_cancellation(\n",
      "\u001b[0;32m~/miniconda3/envs/tesis/lib/python3.7/site-packages/tensorflow/python/eager/execute.py\u001b[0m in \u001b[0;36mquick_execute\u001b[0;34m(op_name, num_outputs, inputs, attrs, ctx, name)\u001b[0m\n\u001b[1;32m     58\u001b[0m     \u001b[0mctx\u001b[0m\u001b[0;34m.\u001b[0m\u001b[0mensure_initialized\u001b[0m\u001b[0;34m(\u001b[0m\u001b[0;34m)\u001b[0m\u001b[0;34m\u001b[0m\u001b[0;34m\u001b[0m\u001b[0m\n\u001b[1;32m     59\u001b[0m     tensors = pywrap_tfe.TFE_Py_Execute(ctx._handle, device_name, op_name,\n\u001b[0;32m---> 60\u001b[0;31m                                         inputs, attrs, num_outputs)\n\u001b[0m\u001b[1;32m     61\u001b[0m   \u001b[0;32mexcept\u001b[0m \u001b[0mcore\u001b[0m\u001b[0;34m.\u001b[0m\u001b[0m_NotOkStatusException\u001b[0m \u001b[0;32mas\u001b[0m \u001b[0me\u001b[0m\u001b[0;34m:\u001b[0m\u001b[0;34m\u001b[0m\u001b[0;34m\u001b[0m\u001b[0m\n\u001b[1;32m     62\u001b[0m     \u001b[0;32mif\u001b[0m \u001b[0mname\u001b[0m \u001b[0;32mis\u001b[0m \u001b[0;32mnot\u001b[0m \u001b[0;32mNone\u001b[0m\u001b[0;34m:\u001b[0m\u001b[0;34m\u001b[0m\u001b[0;34m\u001b[0m\u001b[0m\n",
      "\u001b[0;31mKeyboardInterrupt\u001b[0m: "
     ]
    }
   ],
   "source": [
    "TRAIN_DATA_PATH = 'data/testing/train/'\n",
    "TEST_DATA_PATH = 'data/testing/test/'\n",
    "\n",
    "data_generator = image_train_data_generator(TRAIN_DATA_PATH, 90, 0.1)\n",
    "validation_data = image_test_data(TEST_DATA_PATH)\n",
    "\n",
    "\n",
    "model = lenet()\n",
    "model.compile(optimizer=RMSprop(),\n",
    "    loss=BinaryCrossentropy(),\n",
    "    metrics=['accuracy'])\n",
    "\n",
    "model_checkpoint_acc = ModelCheckpoint('model_trees_acc_v2.hdf5', monitor='accuracy',verbose=1, save_best_only=True)\n",
    "model_checkpoint_val_acc = ModelCheckpoint('model_trees_val_acc_v2.hdf5', monitor='accuracy',verbose=1, save_best_only=True)\n",
    "\n",
    "print('[FIT STARTED...]\\n')\n",
    "history = model.fit(data_generator, epochs=100, steps_per_epoch=1000, callbacks=[model_checkpoint_acc, model_checkpoint_val_acc], validation_data=validation_data)"
   ]
  },
  {
   "cell_type": "code",
   "execution_count": null,
   "metadata": {},
   "outputs": [],
   "source": [
    "# summarize history for accuracy\n",
    "plt.plot(history.history['accuracy'])\n",
    "plt.plot(history.history['val_accuracy'])\n",
    "plt.title('model accuracy')\n",
    "plt.ylabel('accuracy')\n",
    "plt.xlabel('epoch')\n",
    "plt.legend(['train', 'test'], loc='upper left')\n",
    "plt.savefig('acc_2.png')\n",
    "\n",
    "# summarize history for loss\n",
    "plt.plot(history.history['loss'])\n",
    "plt.plot(history.history['val_loss'])\n",
    "plt.title('model loss')\n",
    "plt.ylabel('loss')\n",
    "plt.xlabel('epoch')\n",
    "plt.legend(['train', 'test'], loc='upper left')\n",
    "plt.savefig('loss_2.png')"
   ]
  }
 ],
 "metadata": {
  "language_info": {
   "codemirror_mode": {
    "name": "ipython",
    "version": 3
   },
   "file_extension": ".py",
   "mimetype": "text/x-python",
   "name": "python",
   "nbconvert_exporter": "python",
   "pygments_lexer": "ipython3",
   "version": "3.7.7-final"
  },
  "orig_nbformat": 2,
  "kernelspec": {
   "name": "python_defaultSpec_1599244409915",
   "display_name": "Python 3.7.7 64-bit ('tesis': conda)"
  }
 },
 "nbformat": 4,
 "nbformat_minor": 2
}